{
 "cells": [
  {
   "cell_type": "code",
   "execution_count": 3,
   "metadata": {},
   "outputs": [],
   "source": [
    "import asyncio\n",
    "import aiohttp\n",
    "import requests"
   ]
  },
  {
   "cell_type": "code",
   "execution_count": 4,
   "metadata": {},
   "outputs": [],
   "source": [
    "import nest_asyncio\n",
    "nest_asyncio.apply()"
   ]
  },
  {
   "cell_type": "code",
   "execution_count": null,
   "metadata": {},
   "outputs": [],
   "source": [
    "class Classe:\n",
    "    def __init__(self):\n",
    "        pass\n",
    "    \n",
    "    async def get_page(self, req_id):\n",
    "        async with aiohttp.ClientSession() as session:\n",
    "            print(\"Début de la requête (id:%d)...\" % req_id)\n",
    "            url = \"http://www.ffcanoe.asso.fr/eau_vive/slalom/classement/evenements/index\"\n",
    "            async with session.get(url) as response:\n",
    "                content = await response.content.read()\n",
    "        print(\"Requête effectuée (id:%d), type de content : %s\" % (req_id, type(content)))\n",
    "        return \"done\"\n",
    "\n",
    "    async def get_all_pages(self):\n",
    "        res = await asyncio.gather(*(self.get_page(req_id) for req_id in range(1500)))\n",
    "        print(res)\n",
    "\n",
    "    def low_get_page(req_id):\n",
    "        print(\"Début de la requête (id:%d)...\" % req_id)\n",
    "        url = \"http://www.ffcanoe.asso.fr/eau_vive/slalom/classement/evenements/index\"\n",
    "        res = requests.get(url)\n",
    "        content = res.content\n",
    "        print(\"Requête effectuée (id:%d). type de content : %s\" % (req_id, type(content)))"
   ]
  },
  {
   "cell_type": "code",
   "execution_count": null,
   "metadata": {},
   "outputs": [],
   "source": [
    "loop = asyncio.get_event_loop()\n",
    "classe = Classe()\n",
    "loop.run_until_complete(classe.get_all_pages())"
   ]
  },
  {
   "cell_type": "code",
   "execution_count": null,
   "metadata": {},
   "outputs": [],
   "source": [
    "for i in range(15):\n",
    "    low_get_page(i)"
   ]
  },
  {
   "cell_type": "code",
   "execution_count": null,
   "metadata": {},
   "outputs": [
    {
     "name": "stderr",
     "output_type": "stream",
     "text": [
      "INFO:data_handling.Scrapper:Nombre de manches pour l'année 2000 : 0\n",
      "INFO:data_handling.Scrapper:Nombre de manches pour l'année 2001 : 51\n",
      "INFO:data_handling.Scrapper:Nombre de manches pour l'année 2002 : 110\n",
      "INFO:data_handling.Scrapper:Nombre de manches pour l'année 2003 : 110\n",
      "INFO:data_handling.Scrapper:Nombre de manches pour l'année 2004 : 113\n",
      "INFO:data_handling.Scrapper:Nombre de manches pour l'année 2005 : 112\n",
      "INFO:data_handling.Scrapper:Nombre de manches pour l'année 2006 : 110\n",
      "INFO:data_handling.Scrapper:Nombre de manches pour l'année 2007 : 115\n",
      "INFO:data_handling.Scrapper:Nombre de manches pour l'année 2008 : 119\n",
      "INFO:data_handling.Scrapper:Nombre de manches pour l'année 2009 : 124\n",
      "INFO:data_handling.Scrapper:Nombre de manches pour l'année 2010 : 132\n",
      "INFO:data_handling.Scrapper:Nombre de manches pour l'année 2011 : 134\n",
      "INFO:data_handling.Scrapper:Nombre de manches pour l'année 2012 : 278\n",
      "INFO:data_handling.Scrapper:Nombre de manches pour l'année 2013 : 261\n",
      "INFO:data_handling.Scrapper:Nombre de manches pour l'année 2014 : 232\n",
      "INFO:data_handling.Scrapper:Nombre de manches pour l'année 2015 : 239\n",
      "INFO:data_handling.Scrapper:Nombre de manches pour l'année 2016 : 259\n",
      "INFO:data_handling.Scrapper:Nombre de manches pour l'année 2017 : 256\n",
      "INFO:data_handling.Scrapper:Nombre de manches pour l'année 2018 : 272\n",
      "INFO:data_handling.Scrapper:Nombre de manches pour l'année 2019 : 261\n",
      "INFO:data_handling.Scrapper:Nombre de manches pour l'année 2020 : 122\n",
      "INFO:data_handling.Scrapper:Nombre de manches pour l'année 2021 : 0\n",
      "INFO:data_handling.Scrapper:Au total, 3410 manches.\n",
      "INFO:data_handling.Scrapper:récupération et sauvegarde de toutes les infos de competition...\n",
      "INFO:data_handling.Scrapper:Récupération et sauvegarde des compétitions 0 à 100\n",
      "INFO:data_handling.Scrapper:Récupération et sauvegarde des compétitions 100 à 200\n"
     ]
    }
   ],
   "source": [
    "import logging\n",
    "from data_handling.scrapper import Scrappeur\n",
    "\n",
    "logging.basicConfig(level=logging.INFO)\n",
    "scrappeur = Scrappeur()\n",
    "scrappeur.get_all_competitions_url()\n",
    "loop = asyncio.get_event_loop()\n",
    "loop.run_until_complete(scrappeur.save_all_competitions())\n",
    "print(\"Done\")"
   ]
  },
  {
   "cell_type": "code",
   "execution_count": 2,
   "metadata": {},
   "outputs": [
    {
     "name": "stdout",
     "output_type": "stream",
     "text": [
      "<class 'dict'>\n",
      "{}\n"
     ]
    }
   ],
   "source": [
    "class MaClasse:\n",
    "    def __init__(self):\n",
    "        self.truc = 0\n",
    "        \n",
    "    def func(self, **kwargs):\n",
    "        self.truc = 1\n",
    "        print(type(kwargs))\n",
    "        print(kwargs)\n",
    "c = MaClasse()\n",
    "c.func()"
   ]
  }
 ],
 "metadata": {
  "kernelspec": {
   "display_name": "Python 3",
   "language": "python",
   "name": "python3"
  },
  "language_info": {
   "codemirror_mode": {
    "name": "ipython",
    "version": 3
   },
   "file_extension": ".py",
   "mimetype": "text/x-python",
   "name": "python",
   "nbconvert_exporter": "python",
   "pygments_lexer": "ipython3",
   "version": "3.8.5"
  }
 },
 "nbformat": 4,
 "nbformat_minor": 4
}
