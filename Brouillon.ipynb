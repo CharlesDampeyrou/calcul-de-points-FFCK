{
 "cells": [
  {
   "cell_type": "code",
   "execution_count": null,
   "metadata": {},
   "outputs": [],
   "source": [
    "import asyncio\n",
    "import aiohttp\n",
    "import requests\n",
    "\n",
    "import pandas as pd\n",
    "import numpy as np"
   ]
  },
  {
   "cell_type": "code",
   "execution_count": 4,
   "metadata": {},
   "outputs": [],
   "source": [
    "import nest_asyncio\n",
    "nest_asyncio.apply()"
   ]
  },
  {
   "cell_type": "code",
   "execution_count": 5,
   "metadata": {
    "scrolled": true
   },
   "outputs": [
    {
     "name": "stderr",
     "output_type": "stream",
     "text": [
      "INFO:data_handling.Scrapper:Nombre de manches pour l'année 2000 : 0\n",
      "INFO:data_handling.Scrapper:Nombre de manches pour l'année 2001 : 51\n",
      "INFO:data_handling.Scrapper:Nombre de manches pour l'année 2002 : 110\n",
      "INFO:data_handling.Scrapper:Nombre de manches pour l'année 2003 : 110\n",
      "INFO:data_handling.Scrapper:Nombre de manches pour l'année 2004 : 113\n",
      "INFO:data_handling.Scrapper:Nombre de manches pour l'année 2005 : 112\n",
      "INFO:data_handling.Scrapper:Nombre de manches pour l'année 2006 : 110\n",
      "INFO:data_handling.Scrapper:Nombre de manches pour l'année 2007 : 115\n",
      "INFO:data_handling.Scrapper:Nombre de manches pour l'année 2008 : 119\n",
      "INFO:data_handling.Scrapper:Nombre de manches pour l'année 2009 : 124\n",
      "INFO:data_handling.Scrapper:Nombre de manches pour l'année 2010 : 132\n",
      "INFO:data_handling.Scrapper:Nombre de manches pour l'année 2011 : 134\n",
      "INFO:data_handling.Scrapper:Nombre de manches pour l'année 2012 : 278\n",
      "INFO:data_handling.Scrapper:Nombre de manches pour l'année 2013 : 261\n",
      "INFO:data_handling.Scrapper:Nombre de manches pour l'année 2014 : 232\n",
      "INFO:data_handling.Scrapper:Nombre de manches pour l'année 2015 : 239\n",
      "INFO:data_handling.Scrapper:Nombre de manches pour l'année 2016 : 259\n",
      "INFO:data_handling.Scrapper:Nombre de manches pour l'année 2017 : 256\n",
      "INFO:data_handling.Scrapper:Nombre de manches pour l'année 2018 : 272\n",
      "INFO:data_handling.Scrapper:Nombre de manches pour l'année 2019 : 261\n",
      "INFO:data_handling.Scrapper:Nombre de manches pour l'année 2020 : 122\n",
      "INFO:data_handling.Scrapper:Nombre de manches pour l'année 2021 : 0\n",
      "INFO:data_handling.Scrapper:Au total, 3410 manches.\n",
      "INFO:data_handling.Scrapper:récupération et sauvegarde de toutes les infos de competition...\n",
      "INFO:data_handling.Scrapper:Récupération et sauvegarde des compétitions 0 à 100\n",
      "INFO:data_handling.Scrapper:Récupération et sauvegarde des compétitions 100 à 200\n",
      "INFO:data_handling.Scrapper:Récupération et sauvegarde des compétitions 200 à 300\n",
      "INFO:data_handling.Scrapper:Récupération et sauvegarde des compétitions 300 à 400\n",
      "INFO:data_handling.Scrapper:Récupération et sauvegarde des compétitions 400 à 500\n",
      "INFO:data_handling.Scrapper:Récupération et sauvegarde des compétitions 500 à 600\n",
      "INFO:data_handling.Scrapper:Récupération et sauvegarde des compétitions 600 à 700\n",
      "INFO:data_handling.Scrapper:Récupération et sauvegarde des compétitions 700 à 800\n",
      "INFO:data_handling.Scrapper:Récupération et sauvegarde des compétitions 800 à 900\n",
      "INFO:data_handling.Scrapper:Récupération et sauvegarde des compétitions 900 à 1000\n",
      "INFO:data_handling.Scrapper:Récupération et sauvegarde des compétitions 1000 à 1100\n",
      "INFO:data_handling.Scrapper:Récupération et sauvegarde des compétitions 1100 à 1200\n",
      "INFO:data_handling.Scrapper:Récupération et sauvegarde des compétitions 1200 à 1300\n",
      "INFO:data_handling.Scrapper:Récupération et sauvegarde des compétitions 1300 à 1400\n",
      "INFO:data_handling.Scrapper:Récupération et sauvegarde des compétitions 1400 à 1500\n",
      "INFO:data_handling.Scrapper:Récupération et sauvegarde des compétitions 1500 à 1600\n",
      "INFO:data_handling.Scrapper:Récupération et sauvegarde des compétitions 1600 à 1700\n",
      "INFO:data_handling.Scrapper:Récupération et sauvegarde des compétitions 1700 à 1800\n",
      "INFO:data_handling.Scrapper:Récupération et sauvegarde des compétitions 1800 à 1900\n",
      "INFO:data_handling.Scrapper:Récupération et sauvegarde des compétitions 1900 à 2000\n",
      "INFO:data_handling.Scrapper:Récupération et sauvegarde des compétitions 2000 à 2100\n",
      "INFO:data_handling.Scrapper:Récupération et sauvegarde des compétitions 2100 à 2200\n",
      "INFO:data_handling.Scrapper:Récupération et sauvegarde des compétitions 2200 à 2300\n",
      "INFO:data_handling.Scrapper:Récupération et sauvegarde des compétitions 2300 à 2400\n",
      "INFO:data_handling.Scrapper:Récupération et sauvegarde des compétitions 2400 à 2500\n",
      "INFO:data_handling.Scrapper:Récupération et sauvegarde des compétitions 2500 à 2600\n",
      "INFO:data_handling.Scrapper:Récupération et sauvegarde des compétitions 2600 à 2700\n",
      "INFO:data_handling.Scrapper:Récupération et sauvegarde des compétitions 2700 à 2800\n",
      "INFO:data_handling.Scrapper:Récupération et sauvegarde des compétitions 2800 à 2900\n",
      "INFO:data_handling.Scrapper:Récupération et sauvegarde des compétitions 2900 à 3000\n",
      "INFO:data_handling.Scrapper:Récupération et sauvegarde des compétitions 3000 à 3100\n",
      "INFO:data_handling.Scrapper:Récupération et sauvegarde des compétitions 3100 à 3200\n",
      "INFO:data_handling.Scrapper:Récupération et sauvegarde des compétitions 3200 à 3300\n",
      "INFO:data_handling.Scrapper:Récupération et sauvegarde des compétitions 3300 à 3400\n",
      "INFO:data_handling.Scrapper:Récupération et sauvegarde des compétitions 3400 à 3500\n"
     ]
    },
    {
     "name": "stdout",
     "output_type": "stream",
     "text": [
      "Done\n"
     ]
    }
   ],
   "source": [
    "import logging\n",
    "from data_handling.scrapper import Scrappeur\n",
    "\n",
    "logging.basicConfig(level=logging.INFO)\n",
    "scrappeur = Scrappeur()\n",
    "scrappeur.get_all_competitions_url()\n",
    "loop = asyncio.get_event_loop()\n",
    "loop.run_until_complete(scrappeur.save_all_competitions())\n",
    "print(\"Done\")"
   ]
  },
  {
   "cell_type": "code",
   "execution_count": null,
   "metadata": {},
   "outputs": [],
   "source": [
    "competitors = participations.unique_competitors\n",
    "competitions = participations.unique_competitions\n",
    "score_table = pd.DataFrame(np.zeros((len(competitions), len(competitors))),\n",
    "                           index=competitions,\n",
    "                           columns=competitors)\n",
    "participation_table = pd.DataFrame(np.zeros((len(competitions), len(competitors)), dtype=np.int),\n",
    "                                   index=competitions,\n",
    "                                   columns=competitors)\n",
    "for participation in participations:\n",
    "    score_table.loc[participation[\"competitionName\"],\n",
    "                    participation[\"competitorName\"]] = participation[\"score\"]\n",
    "    participation_table.loc[participation[\"competitionName\"],\n",
    "                            participation[\"competitorName\"]] = 1"
   ]
  }
 ],
 "metadata": {
  "kernelspec": {
   "display_name": "Python 3",
   "language": "python",
   "name": "python3"
  },
  "language_info": {
   "codemirror_mode": {
    "name": "ipython",
    "version": 3
   },
   "file_extension": ".py",
   "mimetype": "text/x-python",
   "name": "python",
   "nbconvert_exporter": "python",
   "pygments_lexer": "ipython3",
   "version": "3.8.5"
  }
 },
 "nbformat": 4,
 "nbformat_minor": 4
}
